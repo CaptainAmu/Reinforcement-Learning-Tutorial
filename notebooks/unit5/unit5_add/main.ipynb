{
  "nbformat": 4,
  "nbformat_minor": 0,
  "metadata": {
    "colab": {
      "provenance": [],
      "authorship_tag": "ABX9TyPXKHFfOaQt2/TMyCVyIWjL",
      "include_colab_link": true
    },
    "kernelspec": {
      "name": "python3",
      "display_name": "Python 3"
    },
    "language_info": {
      "name": "python"
    }
  },
  "cells": [
    {
      "cell_type": "markdown",
      "metadata": {
        "id": "view-in-github",
        "colab_type": "text"
      },
      "source": [
        "<a href=\"https://colab.research.google.com/github/CaptainAmu/Reinforcement-Learning-Tutorial/blob/main/notebooks/unit5/unit5_add/main.ipynb\" target=\"_parent\"><img src=\"https://colab.research.google.com/assets/colab-badge.svg\" alt=\"Open In Colab\"/></a>"
      ]
    },
    {
      "cell_type": "markdown",
      "source": [
        "# Unit 5 Bonus: ML-Agent using Unity, WALKER\n",
        "\n",
        "In this notebook we will train an agent that learns to walk. The environment is provided by `Unity`.\n",
        "\n",
        "Go to https://singularite.itch.io/walker to see your agent walk!"
      ],
      "metadata": {
        "id": "jwsI5r28d78q"
      }
    },
    {
      "cell_type": "markdown",
      "source": [
        "## Step 0. Make Python environment compatible.\n",
        "\n",
        "Check current Python version is `3.12.11`. But for `ml-agents` package we need python version >= 3.7 <= 3.11."
      ],
      "metadata": {
        "id": "ksDLRfaTpYcZ"
      }
    },
    {
      "cell_type": "code",
      "source": [
        "!python --version"
      ],
      "metadata": {
        "colab": {
          "base_uri": "https://localhost:8080/"
        },
        "id": "IH8umbtkpgeN",
        "outputId": "1ab5bd40-7f64-4217-85b0-0f52c42a1f66"
      },
      "execution_count": 23,
      "outputs": [
        {
          "output_type": "stream",
          "name": "stdout",
          "text": [
            "Python 3.9.23\n"
          ]
        }
      ]
    },
    {
      "cell_type": "code",
      "source": [
        "!cat /etc/os-release"
      ],
      "metadata": {
        "colab": {
          "base_uri": "https://localhost:8080/"
        },
        "id": "OEi3Sv4hC5N8",
        "outputId": "d21e0010-de8a-47dd-bdf8-dc15de596634"
      },
      "execution_count": 22,
      "outputs": [
        {
          "output_type": "stream",
          "name": "stdout",
          "text": [
            "PRETTY_NAME=\"Ubuntu 22.04.4 LTS\"\n",
            "NAME=\"Ubuntu\"\n",
            "VERSION_ID=\"22.04\"\n",
            "VERSION=\"22.04.4 LTS (Jammy Jellyfish)\"\n",
            "VERSION_CODENAME=jammy\n",
            "ID=ubuntu\n",
            "ID_LIKE=debian\n",
            "HOME_URL=\"https://www.ubuntu.com/\"\n",
            "SUPPORT_URL=\"https://help.ubuntu.com/\"\n",
            "BUG_REPORT_URL=\"https://bugs.launchpad.net/ubuntu/\"\n",
            "PRIVACY_POLICY_URL=\"https://www.ubuntu.com/legal/terms-and-policies/privacy-policy\"\n",
            "UBUNTU_CODENAME=jammy\n"
          ]
        }
      ]
    },
    {
      "cell_type": "code",
      "source": [
        "# Install virtualenv and create a virtual environment\n",
        "!pip install virtualenv\n",
        "!virtualenv myenv\n",
        "\n",
        "# Download and install Miniconda\n",
        "!wget https://repo.anaconda.com/miniconda/Miniconda3-latest-Linux-x86_64.sh\n",
        "!chmod +x Miniconda3-latest-Linux-x86_64.sh\n",
        "!./Miniconda3-latest-Linux-x86_64.sh -b -f -p /usr/local\n",
        "\n",
        "# Activate Miniconda and install Python ver 3.10.12\n",
        "!source /usr/local/bin/activate\n",
        "!conda tos accept --override-channels --channel https://repo.anaconda.com/pkgs/main\n",
        "!conda tos accept --override-channels --channel https://repo.anaconda.com/pkgs/r\n",
        "!conda install -q -y --prefix /usr/local python=3.9 ujson\n",
        "# 用 conda 安装 Python 3.10.12 和 ujson 库，直接装到 /usr/local 这个前缀路径，\n",
        "# Specifies the version\n",
        "\n",
        "# Set environment variables for Python and conda paths\n",
        "!export PYTHONPATH=/usr/local/lib/python3.9/site-packages/\n",
        "!export CONDA_PREFIX=/usr/local/envs/myenv"
      ],
      "metadata": {
        "colab": {
          "base_uri": "https://localhost:8080/"
        },
        "id": "-q3u-nyyDm7n",
        "outputId": "81625dfe-b23d-482f-ac34-dda6e8cbdb28"
      },
      "execution_count": 3,
      "outputs": [
        {
          "output_type": "stream",
          "name": "stdout",
          "text": [
            "Collecting virtualenv\n",
            "  Downloading virtualenv-20.34.0-py3-none-any.whl.metadata (4.6 kB)\n",
            "Collecting distlib<1,>=0.3.7 (from virtualenv)\n",
            "  Downloading distlib-0.4.0-py2.py3-none-any.whl.metadata (5.2 kB)\n",
            "Requirement already satisfied: filelock<4,>=3.12.2 in /usr/local/lib/python3.12/dist-packages (from virtualenv) (3.19.1)\n",
            "Requirement already satisfied: platformdirs<5,>=3.9.1 in /usr/local/lib/python3.12/dist-packages (from virtualenv) (4.4.0)\n",
            "Downloading virtualenv-20.34.0-py3-none-any.whl (6.0 MB)\n",
            "\u001b[2K   \u001b[90m━━━━━━━━━━━━━━━━━━━━━━━━━━━━━━━━━━━━━━━━\u001b[0m \u001b[32m6.0/6.0 MB\u001b[0m \u001b[31m48.5 MB/s\u001b[0m eta \u001b[36m0:00:00\u001b[0m\n",
            "\u001b[?25hDownloading distlib-0.4.0-py2.py3-none-any.whl (469 kB)\n",
            "\u001b[2K   \u001b[90m━━━━━━━━━━━━━━━━━━━━━━━━━━━━━━━━━━━━━━━━\u001b[0m \u001b[32m469.0/469.0 kB\u001b[0m \u001b[31m32.6 MB/s\u001b[0m eta \u001b[36m0:00:00\u001b[0m\n",
            "\u001b[?25hInstalling collected packages: distlib, virtualenv\n",
            "Successfully installed distlib-0.4.0 virtualenv-20.34.0\n",
            "created virtual environment CPython3.12.11.final.0-64 in 658ms\n",
            "  creator CPython3Posix(dest=/content/myenv, clear=False, no_vcs_ignore=False, global=False)\n",
            "  seeder FromAppData(download=False, pip=bundle, via=copy, app_data_dir=/root/.local/share/virtualenv)\n",
            "    added seed packages: pip==25.2\n",
            "  activators BashActivator,CShellActivator,FishActivator,NushellActivator,PowerShellActivator,PythonActivator\n",
            "--2025-09-20 13:03:38--  https://repo.anaconda.com/miniconda/Miniconda3-latest-Linux-x86_64.sh\n",
            "Resolving repo.anaconda.com (repo.anaconda.com)... 104.16.191.158, 104.16.32.241, 2606:4700::6810:bf9e, ...\n",
            "Connecting to repo.anaconda.com (repo.anaconda.com)|104.16.191.158|:443... connected.\n",
            "HTTP request sent, awaiting response... 200 OK\n",
            "Length: 162129736 (155M) [application/octet-stream]\n",
            "Saving to: ‘Miniconda3-latest-Linux-x86_64.sh’\n",
            "\n",
            "Miniconda3-latest-L 100%[===================>] 154.62M   177MB/s    in 0.9s    \n",
            "\n",
            "2025-09-20 13:03:39 (177 MB/s) - ‘Miniconda3-latest-Linux-x86_64.sh’ saved [162129736/162129736]\n",
            "\n",
            "PREFIX=/usr/local\n",
            "Unpacking bootstrapper...\n",
            "Unpacking payload...\n",
            "\n",
            "Installing base environment...\n",
            "\n",
            "Preparing transaction: ...working... done\n",
            "Executing transaction: ...working... done\n",
            "installation finished.\n",
            "WARNING:\n",
            "    You currently have a PYTHONPATH environment variable set. This may cause\n",
            "    unexpected behavior when running the Python interpreter in Miniconda3.\n",
            "    For best results, please verify that your PYTHONPATH only points to\n",
            "    directories of packages that are compatible with the Python interpreter\n",
            "    in Miniconda3: /usr/local\n",
            "accepted Terms of Service for \u001b[4;94mhttps://repo.anaconda.com/pkgs/main\u001b[0m\n",
            "accepted Terms of Service for \u001b[4;94mhttps://repo.anaconda.com/pkgs/r\u001b[0m\n",
            "\u001b[1;33mJupyter detected\u001b[0m\u001b[1;33m...\u001b[0m\n",
            "\u001b[1;32m2\u001b[0m\u001b[1;32m channel Terms of Service accepted\u001b[0m\n",
            "Retrieving notices: ...working... done\n",
            "Channels:\n",
            " - defaults\n",
            "Platform: linux-64\n",
            "Collecting package metadata (repodata.json): ...working... done\n",
            "Solving environment: ...working... done\n",
            "\n",
            "## Package Plan ##\n",
            "\n",
            "  environment location: /usr/local\n",
            "\n",
            "  added / updated specs:\n",
            "    - python=3.9\n",
            "    - ujson\n",
            "\n",
            "\n",
            "The following packages will be downloaded:\n",
            "\n",
            "    package                    |            build\n",
            "    ---------------------------|-----------------\n",
            "    anaconda-anon-usage-0.7.3  | py39hfc0e8ea_100          32 KB\n",
            "    anaconda-auth-0.8.6        |   py39h06a4308_0          69 KB\n",
            "    anaconda-cli-base-0.5.2    |   py39h06a4308_0          28 KB\n",
            "    annotated-types-0.6.0      |   py39h06a4308_0          22 KB\n",
            "    backports.tarfile-1.2.0    |   py39h06a4308_0          55 KB\n",
            "    boltons-25.0.0             |   py39h06a4308_0         426 KB\n",
            "    brotlicffi-1.0.9.2         |   py39h6a678d5_1         365 KB\n",
            "    ca-certificates-2025.9.9   |       h06a4308_0         127 KB\n",
            "    certifi-2025.8.3           |   py39h06a4308_0         159 KB\n",
            "    cffi-1.17.1                |   py39h1fdaa30_1         249 KB\n",
            "    click-8.1.8                |   py39h06a4308_0         271 KB\n",
            "    colorama-0.4.6             |   py39h06a4308_0          31 KB\n",
            "    conda-25.7.0               |   py39h06a4308_0         965 KB\n",
            "    conda-anaconda-tos-0.2.2   |   py39h06a4308_1          39 KB\n",
            "    conda-content-trust-0.2.0  |   py39h06a4308_1          51 KB\n",
            "    conda-package-handling-2.4.0|   py39h06a4308_0         272 KB\n",
            "    conda-package-streaming-0.12.0|   py39h06a4308_0          32 KB\n",
            "    cryptography-45.0.5        |   py39hea9ce0a_0         1.7 MB\n",
            "    distro-1.9.0               |   py39h06a4308_0          31 KB\n",
            "    frozendict-2.4.2           |   py39h5eee18b_0          55 KB\n",
            "    idna-3.7                   |   py39h06a4308_0         113 KB\n",
            "    importlib-metadata-8.5.0   |   py39h06a4308_0          44 KB\n",
            "    jaraco.classes-3.4.0       |   py39h06a4308_0          18 KB\n",
            "    jaraco.context-6.0.0       |   py39h06a4308_0          15 KB\n",
            "    jaraco.functools-4.1.0     |   py39h06a4308_0          20 KB\n",
            "    jsonpatch-1.33             |   py39h06a4308_1          31 KB\n",
            "    jsonpointer-3.0.0          |   py39h06a4308_0          19 KB\n",
            "    keyring-25.6.0             |   py39h06a4308_0          68 KB\n",
            "    libmambapy-2.0.5           |   py39hdb19cb5_1         672 KB\n",
            "    markdown-it-py-2.2.0       |   py39h06a4308_1         113 KB\n",
            "    mdurl-0.1.0                |   py39h06a4308_0          18 KB\n",
            "    menuinst-2.3.1             |   py39h06a4308_0         236 KB\n",
            "    more-itertools-10.3.0      |   py39h06a4308_0         123 KB\n",
            "    packaging-25.0             |   py39h06a4308_0         172 KB\n",
            "    pkce-1.0.3                 |   py39h06a4308_0           8 KB\n",
            "    platformdirs-4.3.7         |   py39h06a4308_0          36 KB\n",
            "    pluggy-1.5.0               |   py39h06a4308_0          37 KB\n",
            "    pybind11-abi-4             |       hd3eb1b0_1          14 KB\n",
            "    pycosat-0.6.6              |   py39h5eee18b_2          88 KB\n",
            "    pydantic-2.11.7            |   py39h06a4308_0         637 KB\n",
            "    pydantic-core-2.33.2       |   py39hc6f7160_0         1.8 MB\n",
            "    pydantic-settings-2.6.1    |   py39h06a4308_0          54 KB\n",
            "    pygments-2.19.1            |   py39h06a4308_0         1.9 MB\n",
            "    pyjwt-2.10.1               |   py39h06a4308_0          75 KB\n",
            "    pysocks-1.7.1              |   py39h06a4308_0          31 KB\n",
            "    python-3.9.23              |       he99959a_0        24.7 MB\n",
            "    python-dotenv-1.1.0        |   py39h06a4308_0          39 KB\n",
            "    readchar-4.0.5             |   py39h06a4308_0          15 KB\n",
            "    requests-2.32.5            |   py39h06a4308_0         149 KB\n",
            "    rich-13.9.4                |   py39h06a4308_0         469 KB\n",
            "    ruamel.yaml-0.18.10        |   py39h5eee18b_0         202 KB\n",
            "    ruamel.yaml.clib-0.2.12    |   py39h5eee18b_0         159 KB\n",
            "    secretstorage-3.3.1        |   py39h06a4308_1          26 KB\n",
            "    semver-3.0.2               |   py39h06a4308_1          37 KB\n",
            "    setuptools-78.1.1          |   py39h06a4308_0         1.7 MB\n",
            "    shellingham-1.5.0          |   py39h06a4308_0          18 KB\n",
            "    tomli-2.2.1                |   py39h06a4308_0          29 KB\n",
            "    tqdm-4.67.1                |   py39h2f386ee_0         133 KB\n",
            "    typer-0.17.4               |   py39h06a4308_0         122 KB\n",
            "    typing-extensions-4.15.0   |   py39h06a4308_0          11 KB\n",
            "    typing-inspection-0.4.0    |   py39h06a4308_0          26 KB\n",
            "    typing_extensions-4.15.0   |   py39h06a4308_0          79 KB\n",
            "    ujson-5.10.0               |   py39h6a678d5_1         141 KB\n",
            "    urllib3-2.5.0              |   py39h06a4308_0         305 KB\n",
            "    wheel-0.45.1               |   py39h06a4308_0         114 KB\n",
            "    zipp-3.21.0                |   py39h06a4308_0          26 KB\n",
            "    zstandard-0.23.0           |   py39h2c38b39_1         431 KB\n",
            "    ------------------------------------------------------------\n",
            "                                           Total:        40.0 MB\n",
            "\n",
            "The following NEW packages will be INSTALLED:\n",
            "\n",
            "  backports.tarfile  pkgs/main/linux-64::backports.tarfile-1.2.0-py39h06a4308_0 \n",
            "  importlib-metadata pkgs/main/linux-64::importlib-metadata-8.5.0-py39h06a4308_0 \n",
            "  ujson              pkgs/main/linux-64::ujson-5.10.0-py39h6a678d5_1 \n",
            "  zipp               pkgs/main/linux-64::zipp-3.21.0-py39h06a4308_0 \n",
            "\n",
            "The following packages will be REMOVED:\n",
            "\n",
            "  libmpdec-4.0.0-h5eee18b_0\n",
            "  libuuid-1.41.5-h5eee18b_0\n",
            "  python_abi-3.13-0_cp313\n",
            "  truststore-0.10.1-py313h06a4308_0\n",
            "\n",
            "The following packages will be UPDATED:\n",
            "\n",
            "  anaconda-anon-usa~                0.7.2-py313hfc0e8ea_100 --> 0.7.3-py39hfc0e8ea_100 \n",
            "  ca-certificates                      2025.7.15-h06a4308_0 --> 2025.9.9-h06a4308_0 \n",
            "  requests                           2.32.4-py313h06a4308_0 --> 2.32.5-py39h06a4308_0 \n",
            "  typer                               0.9.0-py313h06a4308_0 --> 0.17.4-py39h06a4308_0 \n",
            "  typing-extensions                  4.12.2-py313h06a4308_0 --> 4.15.0-py39h06a4308_0 \n",
            "  typing_extensions                  4.12.2-py313h06a4308_0 --> 4.15.0-py39h06a4308_0 \n",
            "\n",
            "The following packages will be DOWNGRADED:\n",
            "\n",
            "  click                               8.2.1-py313h06a4308_0 --> 8.1.8-py39h06a4308_0 \n",
            "  pybind11-abi                                 5-hd3eb1b0_0 --> 4-hd3eb1b0_1 \n",
            "  python                          3.13.5-h4612cfd_100_cp313 --> 3.9.23-he99959a_0 \n",
            "\n",
            "The following packages will be REVISED:\n",
            "\n",
            "  anaconda-auth                       0.8.6-py313h06a4308_0 --> 0.8.6-py39h06a4308_0 \n",
            "  anaconda-cli-base                   0.5.2-py313h06a4308_0 --> 0.5.2-py39h06a4308_0 \n",
            "  annotated-types                     0.6.0-py313h06a4308_0 --> 0.6.0-py39h06a4308_0 \n",
            "  boltons                            25.0.0-py313h06a4308_0 --> 25.0.0-py39h06a4308_0 \n",
            "  brotlicffi                        1.0.9.2-py313h6a678d5_1 --> 1.0.9.2-py39h6a678d5_1 \n",
            "  certifi                          2025.8.3-py313h06a4308_0 --> 2025.8.3-py39h06a4308_0 \n",
            "  cffi                               1.17.1-py313h1fdaa30_1 --> 1.17.1-py39h1fdaa30_1 \n",
            "  colorama                            0.4.6-py313h06a4308_0 --> 0.4.6-py39h06a4308_0 \n",
            "  conda                              25.7.0-py313h06a4308_0 --> 25.7.0-py39h06a4308_0 \n",
            "  conda-anaconda-tos                  0.2.2-py313h06a4308_1 --> 0.2.2-py39h06a4308_1 \n",
            "  conda-content-tru~                  0.2.0-py313h06a4308_1 --> 0.2.0-py39h06a4308_1 \n",
            "  conda-package-han~                  2.4.0-py313h06a4308_0 --> 2.4.0-py39h06a4308_0 \n",
            "  conda-package-str~                 0.12.0-py313h06a4308_0 --> 0.12.0-py39h06a4308_0 \n",
            "  cryptography                       45.0.5-py313hea9ce0a_0 --> 45.0.5-py39hea9ce0a_0 \n",
            "  distro                              1.9.0-py313h06a4308_0 --> 1.9.0-py39h06a4308_0 \n",
            "  frozendict                          2.4.2-py313h06a4308_0 --> 2.4.2-py39h5eee18b_0 \n",
            "  idna                                  3.7-py313h06a4308_0 --> 3.7-py39h06a4308_0 \n",
            "  jaraco.classes                      3.4.0-py313h06a4308_0 --> 3.4.0-py39h06a4308_0 \n",
            "  jaraco.context                      6.0.0-py313h06a4308_0 --> 6.0.0-py39h06a4308_0 \n",
            "  jaraco.functools                    4.1.0-py313h06a4308_0 --> 4.1.0-py39h06a4308_0 \n",
            "  jsonpatch                            1.33-py313h06a4308_1 --> 1.33-py39h06a4308_1 \n",
            "  jsonpointer                         3.0.0-py313h06a4308_0 --> 3.0.0-py39h06a4308_0 \n",
            "  keyring                            25.6.0-py313h06a4308_0 --> 25.6.0-py39h06a4308_0 \n",
            "  libmambapy                          2.0.5-py313hdb19cb5_1 --> 2.0.5-py39hdb19cb5_1 \n",
            "  markdown-it-py                      2.2.0-py313h06a4308_1 --> 2.2.0-py39h06a4308_1 \n",
            "  mdurl                               0.1.0-py313h06a4308_0 --> 0.1.0-py39h06a4308_0 \n",
            "  menuinst                            2.3.1-py313h06a4308_0 --> 2.3.1-py39h06a4308_0 \n",
            "  more-itertools                     10.3.0-py313h06a4308_0 --> 10.3.0-py39h06a4308_0 \n",
            "  packaging                            25.0-py313h06a4308_0 --> 25.0-py39h06a4308_0 \n",
            "  pkce                                1.0.3-py313h06a4308_0 --> 1.0.3-py39h06a4308_0 \n",
            "  platformdirs                        4.3.7-py313h06a4308_0 --> 4.3.7-py39h06a4308_0 \n",
            "  pluggy                              1.5.0-py313h06a4308_0 --> 1.5.0-py39h06a4308_0 \n",
            "  pycosat                             0.6.6-py313h5eee18b_2 --> 0.6.6-py39h5eee18b_2 \n",
            "  pydantic                           2.11.7-py313h06a4308_0 --> 2.11.7-py39h06a4308_0 \n",
            "  pydantic-core                      2.33.2-py313hc6f7160_0 --> 2.33.2-py39hc6f7160_0 \n",
            "  pydantic-settings                   2.6.1-py313h06a4308_0 --> 2.6.1-py39h06a4308_0 \n",
            "  pygments                           2.19.1-py313h06a4308_0 --> 2.19.1-py39h06a4308_0 \n",
            "  pyjwt                              2.10.1-py313h06a4308_0 --> 2.10.1-py39h06a4308_0 \n",
            "  pysocks                             1.7.1-py313h06a4308_0 --> 1.7.1-py39h06a4308_0 \n",
            "  python-dotenv                       1.1.0-py313h06a4308_0 --> 1.1.0-py39h06a4308_0 \n",
            "  readchar                            4.0.5-py313h06a4308_0 --> 4.0.5-py39h06a4308_0 \n",
            "  rich                               13.9.4-py313h06a4308_0 --> 13.9.4-py39h06a4308_0 \n",
            "  ruamel.yaml                       0.18.10-py313h5eee18b_0 --> 0.18.10-py39h5eee18b_0 \n",
            "  ruamel.yaml.clib                   0.2.12-py313h5eee18b_0 --> 0.2.12-py39h5eee18b_0 \n",
            "  secretstorage                       3.3.1-py313h06a4308_1 --> 3.3.1-py39h06a4308_1 \n",
            "  semver                              3.0.2-py313h06a4308_1 --> 3.0.2-py39h06a4308_1 \n",
            "  setuptools                         78.1.1-py313h06a4308_0 --> 78.1.1-py39h06a4308_0 \n",
            "  shellingham                         1.5.0-py313h06a4308_0 --> 1.5.0-py39h06a4308_0 \n",
            "  tomli                               2.2.1-py313h06a4308_0 --> 2.2.1-py39h06a4308_0 \n",
            "  tqdm                               4.67.1-py313h7040dfc_0 --> 4.67.1-py39h2f386ee_0 \n",
            "  typing-inspection                   0.4.0-py313h06a4308_0 --> 0.4.0-py39h06a4308_0 \n",
            "  urllib3                             2.5.0-py313h06a4308_0 --> 2.5.0-py39h06a4308_0 \n",
            "  wheel                              0.45.1-py313h06a4308_0 --> 0.45.1-py39h06a4308_0 \n",
            "  zstandard                          0.23.0-py313h2c38b39_1 --> 0.23.0-py39h2c38b39_1 \n",
            "\n",
            "\n",
            "Preparing transaction: ...working... done\n",
            "Verifying transaction: ...working... done\n",
            "Executing transaction: ...working... Removed 2 cache files.\n",
            "Removed 2 Terms of Service files.\n",
            "\n",
            "done\n"
          ]
        }
      ]
    },
    {
      "cell_type": "code",
      "source": [
        "!python --version"
      ],
      "metadata": {
        "colab": {
          "base_uri": "https://localhost:8080/"
        },
        "id": "p4QhTtpmK8gj",
        "outputId": "06d0c303-771e-40a2-df88-d2dd4d4ea69c"
      },
      "execution_count": 4,
      "outputs": [
        {
          "output_type": "stream",
          "name": "stdout",
          "text": [
            "Python 3.9.23\n"
          ]
        }
      ]
    },
    {
      "cell_type": "markdown",
      "source": [
        "## Step 1. Install the packages"
      ],
      "metadata": {
        "id": "J9FeF6gIeY6V"
      }
    },
    {
      "cell_type": "code",
      "execution_count": 5,
      "metadata": {
        "id": "HcN1B4GfdMiN",
        "colab": {
          "base_uri": "https://localhost:8080/"
        },
        "outputId": "f6b9d624-9778-4323-d4d8-2ed7980ce06f"
      },
      "outputs": [
        {
          "output_type": "stream",
          "name": "stdout",
          "text": [
            "Cloning into 'ml-agents'...\n",
            "remote: Enumerating objects: 85740, done.\u001b[K\n",
            "remote: Counting objects: 100% (1/1), done.\u001b[K\n",
            "remote: Total 85740 (delta 0), reused 0 (delta 0), pack-reused 85739 (from 1)\u001b[K\n",
            "Receiving objects: 100% (85740/85740), 2.49 GiB | 32.65 MiB/s, done.\n",
            "Resolving deltas: 100% (62587/62587), done.\n",
            "Updating files: 100% (2107/2107), done.\n"
          ]
        }
      ],
      "source": [
        "# Clone the repository\n",
        "!git clone https://github.com/huggingface/ml-agents/"
      ]
    },
    {
      "cell_type": "code",
      "source": [
        "# Go inside the repository and install the package\n",
        "%cd /content/ml-agents"
      ],
      "metadata": {
        "colab": {
          "base_uri": "https://localhost:8080/"
        },
        "id": "vIPymOj0fhXm",
        "outputId": "c2ddc1f2-52a4-4f53-f004-1720b3b91aeb"
      },
      "execution_count": 9,
      "outputs": [
        {
          "output_type": "stream",
          "name": "stdout",
          "text": [
            "/content/ml-agents\n"
          ]
        }
      ]
    },
    {
      "cell_type": "code",
      "source": [
        "!pip install -e ./ml-agents-envs"
      ],
      "metadata": {
        "colab": {
          "base_uri": "https://localhost:8080/"
        },
        "id": "BSiM2HZGADg6",
        "outputId": "090251f2-7f16-4685-b277-9947f549dc09"
      },
      "execution_count": 10,
      "outputs": [
        {
          "output_type": "stream",
          "name": "stdout",
          "text": [
            "Obtaining file:///content/ml-agents/ml-agents-envs\n",
            "  Preparing metadata (setup.py) ... \u001b[?25l\u001b[?25hdone\n",
            "Collecting cloudpickle (from mlagents_envs==0.29.0.dev0)\n",
            "  Downloading cloudpickle-3.1.1-py3-none-any.whl.metadata (7.1 kB)\n",
            "Collecting grpcio>=1.11.0 (from mlagents_envs==0.29.0.dev0)\n",
            "  Downloading grpcio-1.75.0-cp39-cp39-manylinux2014_x86_64.manylinux_2_17_x86_64.whl.metadata (3.7 kB)\n",
            "Collecting numpy>=1.14.1 (from mlagents_envs==0.29.0.dev0)\n",
            "  Downloading numpy-2.0.2-cp39-cp39-manylinux_2_17_x86_64.manylinux2014_x86_64.whl.metadata (60 kB)\n",
            "Collecting Pillow>=4.2.1 (from mlagents_envs==0.29.0.dev0)\n",
            "  Downloading pillow-11.3.0-cp39-cp39-manylinux_2_27_x86_64.manylinux_2_28_x86_64.whl.metadata (9.0 kB)\n",
            "Collecting protobuf>=3.6 (from mlagents_envs==0.29.0.dev0)\n",
            "  Downloading protobuf-6.32.1-cp39-abi3-manylinux2014_x86_64.whl.metadata (593 bytes)\n",
            "Collecting pyyaml>=3.1.0 (from mlagents_envs==0.29.0.dev0)\n",
            "  Downloading PyYAML-6.0.2-cp39-cp39-manylinux_2_17_x86_64.manylinux2014_x86_64.whl.metadata (2.1 kB)\n",
            "Requirement already satisfied: typing-extensions~=4.12 in /usr/local/lib/python3.9/site-packages (from grpcio>=1.11.0->mlagents_envs==0.29.0.dev0) (4.15.0)\n",
            "Downloading grpcio-1.75.0-cp39-cp39-manylinux2014_x86_64.manylinux_2_17_x86_64.whl (6.5 MB)\n",
            "\u001b[2K   \u001b[90m━━━━━━━━━━━━━━━━━━━━━━━━━━━━━━━━━━━━━━━━\u001b[0m \u001b[32m6.5/6.5 MB\u001b[0m \u001b[31m77.9 MB/s\u001b[0m eta \u001b[36m0:00:00\u001b[0m\n",
            "\u001b[?25hDownloading numpy-2.0.2-cp39-cp39-manylinux_2_17_x86_64.manylinux2014_x86_64.whl (19.5 MB)\n",
            "\u001b[2K   \u001b[90m━━━━━━━━━━━━━━━━━━━━━━━━━━━━━━━━━━━━━━━━\u001b[0m \u001b[32m19.5/19.5 MB\u001b[0m \u001b[31m131.4 MB/s\u001b[0m eta \u001b[36m0:00:00\u001b[0m\n",
            "\u001b[?25hDownloading pillow-11.3.0-cp39-cp39-manylinux_2_27_x86_64.manylinux_2_28_x86_64.whl (6.6 MB)\n",
            "\u001b[2K   \u001b[90m━━━━━━━━━━━━━━━━━━━━━━━━━━━━━━━━━━━━━━━━\u001b[0m \u001b[32m6.6/6.6 MB\u001b[0m \u001b[31m141.0 MB/s\u001b[0m eta \u001b[36m0:00:00\u001b[0m\n",
            "\u001b[?25hDownloading protobuf-6.32.1-cp39-abi3-manylinux2014_x86_64.whl (322 kB)\n",
            "Downloading PyYAML-6.0.2-cp39-cp39-manylinux_2_17_x86_64.manylinux2014_x86_64.whl (737 kB)\n",
            "\u001b[2K   \u001b[90m━━━━━━━━━━━━━━━━━━━━━━━━━━━━━━━━━━━━━━━━\u001b[0m \u001b[32m737.4/737.4 kB\u001b[0m \u001b[31m35.8 MB/s\u001b[0m eta \u001b[36m0:00:00\u001b[0m\n",
            "\u001b[?25hDownloading cloudpickle-3.1.1-py3-none-any.whl (20 kB)\n",
            "Installing collected packages: pyyaml, protobuf, Pillow, numpy, grpcio, cloudpickle, mlagents_envs\n",
            "\u001b[2K   \u001b[91m━━━━━━━━━━━━━━━━━━━━━━\u001b[0m\u001b[91m╸\u001b[0m\u001b[90m━━━━━━━━━━━━━━━━━\u001b[0m \u001b[32m4/7\u001b[0m [grpcio]\u001b[33m  DEPRECATION: Legacy editable install of mlagents_envs==0.29.0.dev0 from file:///content/ml-agents/ml-agents-envs (setup.py develop) is deprecated. pip 25.3 will enforce this behaviour change. A possible replacement is to add a pyproject.toml or enable --use-pep517, and use setuptools >= 64. If the resulting installation is not behaving as expected, try using --config-settings editable_mode=compat. Please consult the setuptools documentation for more information. Discussion can be found at https://github.com/pypa/pip/issues/11457\u001b[0m\u001b[33m\n",
            "\u001b[2K  Running setup.py develop for mlagents_envs\n",
            "\u001b[2K   \u001b[90m━━━━━━━━━━━━━━━━━━━━━━━━━━━━━━━━━━━━━━━━\u001b[0m \u001b[32m7/7\u001b[0m [mlagents_envs]\n",
            "\u001b[1A\u001b[2KSuccessfully installed Pillow-11.3.0 cloudpickle-3.1.1 grpcio-1.75.0 mlagents_envs numpy-2.0.2 protobuf-6.32.1 pyyaml-6.0.2\n"
          ]
        }
      ]
    },
    {
      "cell_type": "code",
      "source": [
        "!pip install -e ./ml-agents"
      ],
      "metadata": {
        "colab": {
          "base_uri": "https://localhost:8080/"
        },
        "id": "LEN7N1QcA7M5",
        "outputId": "bd4ff7d5-e36f-4f3a-8c44-1a66a7577bf5"
      },
      "execution_count": 11,
      "outputs": [
        {
          "output_type": "stream",
          "name": "stdout",
          "text": [
            "Obtaining file:///content/ml-agents/ml-agents\n",
            "  Preparing metadata (setup.py) ... \u001b[?25l\u001b[?25hdone\n",
            "Requirement already satisfied: grpcio>=1.11.0 in /usr/local/lib/python3.9/site-packages (from mlagents==0.29.0.dev0) (1.75.0)\n",
            "Collecting h5py>=2.9.0 (from mlagents==0.29.0.dev0)\n",
            "  Downloading h5py-3.14.0-cp39-cp39-manylinux_2_17_x86_64.manylinux2014_x86_64.whl.metadata (2.7 kB)\n",
            "Requirement already satisfied: mlagents_envs==0.29.0.dev0 in ./ml-agents-envs (from mlagents==0.29.0.dev0) (0.29.0.dev0)\n",
            "Collecting numpy<2.0,>=1.13.3 (from mlagents==0.29.0.dev0)\n",
            "  Downloading numpy-1.26.4-cp39-cp39-manylinux_2_17_x86_64.manylinux2014_x86_64.whl.metadata (61 kB)\n",
            "Requirement already satisfied: Pillow>=4.2.1 in /usr/local/lib/python3.9/site-packages (from mlagents==0.29.0.dev0) (11.3.0)\n",
            "Requirement already satisfied: protobuf>=3.6 in /usr/local/lib/python3.9/site-packages (from mlagents==0.29.0.dev0) (6.32.1)\n",
            "Requirement already satisfied: pyyaml>=3.1.0 in /usr/local/lib/python3.9/site-packages (from mlagents==0.29.0.dev0) (6.0.2)\n",
            "Collecting tensorboard>=1.15 (from mlagents==0.29.0.dev0)\n",
            "  Downloading tensorboard-2.20.0-py3-none-any.whl.metadata (1.8 kB)\n",
            "Collecting attrs>=19.3.0 (from mlagents==0.29.0.dev0)\n",
            "  Downloading attrs-25.3.0-py3-none-any.whl.metadata (10 kB)\n",
            "Collecting huggingface_hub~=0.8 (from mlagents==0.29.0.dev0)\n",
            "  Downloading huggingface_hub-0.35.0-py3-none-any.whl.metadata (14 kB)\n",
            "Collecting torch<1.9.0,>=1.8.0 (from mlagents==0.29.0.dev0)\n",
            "  Downloading torch-1.8.1-cp39-cp39-manylinux1_x86_64.whl.metadata (23 kB)\n",
            "Collecting cattrs<1.7,>=1.1.0 (from mlagents==0.29.0.dev0)\n",
            "  Downloading cattrs-1.5.0-py3-none-any.whl.metadata (16 kB)\n",
            "Requirement already satisfied: cloudpickle in /usr/local/lib/python3.9/site-packages (from mlagents_envs==0.29.0.dev0->mlagents==0.29.0.dev0) (3.1.1)\n",
            "Collecting filelock (from huggingface_hub~=0.8->mlagents==0.29.0.dev0)\n",
            "  Downloading filelock-3.19.1-py3-none-any.whl.metadata (2.1 kB)\n",
            "Collecting fsspec>=2023.5.0 (from huggingface_hub~=0.8->mlagents==0.29.0.dev0)\n",
            "  Downloading fsspec-2025.9.0-py3-none-any.whl.metadata (10 kB)\n",
            "Requirement already satisfied: packaging>=20.9 in /usr/local/lib/python3.9/site-packages (from huggingface_hub~=0.8->mlagents==0.29.0.dev0) (25.0)\n",
            "Requirement already satisfied: requests in /usr/local/lib/python3.9/site-packages (from huggingface_hub~=0.8->mlagents==0.29.0.dev0) (2.32.5)\n",
            "Requirement already satisfied: tqdm>=4.42.1 in /usr/local/lib/python3.9/site-packages (from huggingface_hub~=0.8->mlagents==0.29.0.dev0) (4.67.1)\n",
            "Requirement already satisfied: typing-extensions>=3.7.4.3 in /usr/local/lib/python3.9/site-packages (from huggingface_hub~=0.8->mlagents==0.29.0.dev0) (4.15.0)\n",
            "Collecting hf-xet<2.0.0,>=1.1.3 (from huggingface_hub~=0.8->mlagents==0.29.0.dev0)\n",
            "  Downloading hf_xet-1.1.10-cp37-abi3-manylinux_2_17_x86_64.manylinux2014_x86_64.whl.metadata (4.7 kB)\n",
            "Collecting absl-py>=0.4 (from tensorboard>=1.15->mlagents==0.29.0.dev0)\n",
            "  Downloading absl_py-2.3.1-py3-none-any.whl.metadata (3.3 kB)\n",
            "Collecting markdown>=2.6.8 (from tensorboard>=1.15->mlagents==0.29.0.dev0)\n",
            "  Downloading markdown-3.9-py3-none-any.whl.metadata (5.1 kB)\n",
            "Requirement already satisfied: setuptools>=41.0.0 in /usr/local/lib/python3.9/site-packages (from tensorboard>=1.15->mlagents==0.29.0.dev0) (78.1.1)\n",
            "Collecting tensorboard-data-server<0.8.0,>=0.7.0 (from tensorboard>=1.15->mlagents==0.29.0.dev0)\n",
            "  Downloading tensorboard_data_server-0.7.2-py3-none-manylinux_2_31_x86_64.whl.metadata (1.1 kB)\n",
            "Collecting werkzeug>=1.0.1 (from tensorboard>=1.15->mlagents==0.29.0.dev0)\n",
            "  Downloading werkzeug-3.1.3-py3-none-any.whl.metadata (3.7 kB)\n",
            "Requirement already satisfied: importlib-metadata>=4.4 in /usr/local/lib/python3.9/site-packages (from markdown>=2.6.8->tensorboard>=1.15->mlagents==0.29.0.dev0) (8.5.0)\n",
            "Requirement already satisfied: zipp>=3.20 in /usr/local/lib/python3.9/site-packages (from importlib-metadata>=4.4->markdown>=2.6.8->tensorboard>=1.15->mlagents==0.29.0.dev0) (3.21.0)\n",
            "Collecting MarkupSafe>=2.1.1 (from werkzeug>=1.0.1->tensorboard>=1.15->mlagents==0.29.0.dev0)\n",
            "  Downloading MarkupSafe-3.0.2-cp39-cp39-manylinux_2_17_x86_64.manylinux2014_x86_64.whl.metadata (4.0 kB)\n",
            "Requirement already satisfied: charset_normalizer<4,>=2 in /usr/local/lib/python3.9/site-packages (from requests->huggingface_hub~=0.8->mlagents==0.29.0.dev0) (3.3.2)\n",
            "Requirement already satisfied: idna<4,>=2.5 in /usr/local/lib/python3.9/site-packages (from requests->huggingface_hub~=0.8->mlagents==0.29.0.dev0) (3.7)\n",
            "Requirement already satisfied: urllib3<3,>=1.21.1 in /usr/local/lib/python3.9/site-packages (from requests->huggingface_hub~=0.8->mlagents==0.29.0.dev0) (2.5.0)\n",
            "Requirement already satisfied: certifi>=2017.4.17 in /usr/local/lib/python3.9/site-packages (from requests->huggingface_hub~=0.8->mlagents==0.29.0.dev0) (2025.8.3)\n",
            "Downloading cattrs-1.5.0-py3-none-any.whl (19 kB)\n",
            "Downloading huggingface_hub-0.35.0-py3-none-any.whl (563 kB)\n",
            "\u001b[2K   \u001b[90m━━━━━━━━━━━━━━━━━━━━━━━━━━━━━━━━━━━━━━━━\u001b[0m \u001b[32m563.4/563.4 kB\u001b[0m \u001b[31m12.8 MB/s\u001b[0m eta \u001b[36m0:00:00\u001b[0m\n",
            "\u001b[?25hDownloading hf_xet-1.1.10-cp37-abi3-manylinux_2_17_x86_64.manylinux2014_x86_64.whl (3.2 MB)\n",
            "\u001b[2K   \u001b[90m━━━━━━━━━━━━━━━━━━━━━━━━━━━━━━━━━━━━━━━━\u001b[0m \u001b[32m3.2/3.2 MB\u001b[0m \u001b[31m64.5 MB/s\u001b[0m eta \u001b[36m0:00:00\u001b[0m\n",
            "\u001b[?25hDownloading numpy-1.26.4-cp39-cp39-manylinux_2_17_x86_64.manylinux2014_x86_64.whl (18.2 MB)\n",
            "\u001b[2K   \u001b[90m━━━━━━━━━━━━━━━━━━━━━━━━━━━━━━━━━━━━━━━━\u001b[0m \u001b[32m18.2/18.2 MB\u001b[0m \u001b[31m130.0 MB/s\u001b[0m eta \u001b[36m0:00:00\u001b[0m\n",
            "\u001b[?25hDownloading torch-1.8.1-cp39-cp39-manylinux1_x86_64.whl (804.1 MB)\n",
            "\u001b[2K   \u001b[90m━━━━━━━━━━━━━━━━━━━━━━━━━━━━━━━━━━━━━━━━\u001b[0m \u001b[32m804.1/804.1 MB\u001b[0m \u001b[31m33.8 MB/s\u001b[0m eta \u001b[36m0:00:00\u001b[0m\n",
            "\u001b[?25hDownloading attrs-25.3.0-py3-none-any.whl (63 kB)\n",
            "Downloading fsspec-2025.9.0-py3-none-any.whl (199 kB)\n",
            "Downloading h5py-3.14.0-cp39-cp39-manylinux_2_17_x86_64.manylinux2014_x86_64.whl (4.6 MB)\n",
            "\u001b[2K   \u001b[90m━━━━━━━━━━━━━━━━━━━━━━━━━━━━━━━━━━━━━━━━\u001b[0m \u001b[32m4.6/4.6 MB\u001b[0m \u001b[31m131.1 MB/s\u001b[0m eta \u001b[36m0:00:00\u001b[0m\n",
            "\u001b[?25hDownloading tensorboard-2.20.0-py3-none-any.whl (5.5 MB)\n",
            "\u001b[2K   \u001b[90m━━━━━━━━━━━━━━━━━━━━━━━━━━━━━━━━━━━━━━━━\u001b[0m \u001b[32m5.5/5.5 MB\u001b[0m \u001b[31m128.3 MB/s\u001b[0m eta \u001b[36m0:00:00\u001b[0m\n",
            "\u001b[?25hDownloading tensorboard_data_server-0.7.2-py3-none-manylinux_2_31_x86_64.whl (6.6 MB)\n",
            "\u001b[2K   \u001b[90m━━━━━━━━━━━━━━━━━━━━━━━━━━━━━━━━━━━━━━━━\u001b[0m \u001b[32m6.6/6.6 MB\u001b[0m \u001b[31m140.1 MB/s\u001b[0m eta \u001b[36m0:00:00\u001b[0m\n",
            "\u001b[?25hDownloading absl_py-2.3.1-py3-none-any.whl (135 kB)\n",
            "Downloading markdown-3.9-py3-none-any.whl (107 kB)\n",
            "Downloading werkzeug-3.1.3-py3-none-any.whl (224 kB)\n",
            "Downloading MarkupSafe-3.0.2-cp39-cp39-manylinux_2_17_x86_64.manylinux2014_x86_64.whl (20 kB)\n",
            "Downloading filelock-3.19.1-py3-none-any.whl (15 kB)\n",
            "Installing collected packages: tensorboard-data-server, numpy, MarkupSafe, hf-xet, fsspec, filelock, attrs, absl-py, werkzeug, torch, markdown, huggingface_hub, h5py, cattrs, tensorboard, mlagents\n",
            "\u001b[2K  Attempting uninstall: numpy\n",
            "\u001b[2K    Found existing installation: numpy 2.0.2\n",
            "\u001b[2K    Uninstalling numpy-2.0.2:\n",
            "\u001b[2K      Successfully uninstalled numpy-2.0.2\n",
            "\u001b[2K   \u001b[91m━━━━━━━━━━━━━━━━━━━━━━━━━━━━━━━━━━━\u001b[0m\u001b[90m╺\u001b[0m\u001b[90m━━━━\u001b[0m \u001b[32m14/16\u001b[0m [tensorboard]\u001b[33m  DEPRECATION: Legacy editable install of mlagents==0.29.0.dev0 from file:///content/ml-agents/ml-agents (setup.py develop) is deprecated. pip 25.3 will enforce this behaviour change. A possible replacement is to add a pyproject.toml or enable --use-pep517, and use setuptools >= 64. If the resulting installation is not behaving as expected, try using --config-settings editable_mode=compat. Please consult the setuptools documentation for more information. Discussion can be found at https://github.com/pypa/pip/issues/11457\u001b[0m\u001b[33m\n",
            "\u001b[2K  Running setup.py develop for mlagents\n",
            "\u001b[2K   \u001b[90m━━━━━━━━━━━━━━━━━━━━━━━━━━━━━━━━━━━━━━━━\u001b[0m \u001b[32m16/16\u001b[0m [mlagents]\n",
            "\u001b[1A\u001b[2KSuccessfully installed MarkupSafe-3.0.2 absl-py-2.3.1 attrs-25.3.0 cattrs-1.5.0 filelock-3.19.1 fsspec-2025.9.0 h5py-3.14.0 hf-xet-1.1.10 huggingface_hub-0.35.0 markdown-3.9 mlagents numpy-1.26.4 tensorboard-2.20.0 tensorboard-data-server-0.7.2 torch-1.8.1 werkzeug-3.1.3\n"
          ]
        }
      ]
    },
    {
      "cell_type": "markdown",
      "source": [
        "## Step 2. Download Environment Executables"
      ],
      "metadata": {
        "id": "FqJUMMEB-Rv4"
      }
    },
    {
      "cell_type": "markdown",
      "source": [
        "Download executable zip from here: https://drive.google.com/drive/folders/1HrvHNRLCKwQRWv-JkhhMPTHCwu_iHxZj?usp=sharing\n",
        "\n",
        "Unzip it and place it inside the MLAgents cloned repo in a new folder called trained-envs-executables/windows."
      ],
      "metadata": {
        "id": "Lfk3GYo6Q2CR"
      }
    },
    {
      "cell_type": "code",
      "source": [
        "%cd /content/ml-agents\n",
        "!mkdir -p ./trained-envs-executables/windows/"
      ],
      "metadata": {
        "colab": {
          "base_uri": "https://localhost:8080/"
        },
        "id": "alI71C4LQ4lW",
        "outputId": "eb517bc1-0806-4052-b0db-2d2f15dc5c70"
      },
      "execution_count": 19,
      "outputs": [
        {
          "output_type": "stream",
          "name": "stdout",
          "text": [
            "/content/ml-agents\n"
          ]
        }
      ]
    },
    {
      "cell_type": "code",
      "source": [
        "!pip install gdown\n",
        "!gdown --folder \"https://drive.google.com/drive/folders/1HrvHNRLCKwQRWv-JkhhMPTHCwu_iHxZj?usp=sharing/Public Hugging Face/Windows/Walker.zip\" \\\n",
        "      -O ./trained-envs-executables/windows/"
      ],
      "metadata": {
        "colab": {
          "base_uri": "https://localhost:8080/"
        },
        "id": "fO0R1daP-eHS",
        "outputId": "9d5784b4-7715-452e-a8b1-acca909f8db2"
      },
      "execution_count": 25,
      "outputs": [
        {
          "output_type": "stream",
          "name": "stdout",
          "text": [
            "Requirement already satisfied: gdown in /usr/local/lib/python3.9/site-packages (5.2.0)\n",
            "Requirement already satisfied: beautifulsoup4 in /usr/local/lib/python3.9/site-packages (from gdown) (4.13.5)\n",
            "Requirement already satisfied: filelock in /usr/local/lib/python3.9/site-packages (from gdown) (3.19.1)\n",
            "Requirement already satisfied: requests[socks] in /usr/local/lib/python3.9/site-packages (from gdown) (2.32.5)\n",
            "Requirement already satisfied: tqdm in /usr/local/lib/python3.9/site-packages (from gdown) (4.67.1)\n",
            "Requirement already satisfied: soupsieve>1.2 in /usr/local/lib/python3.9/site-packages (from beautifulsoup4->gdown) (2.8)\n",
            "Requirement already satisfied: typing-extensions>=4.0.0 in /usr/local/lib/python3.9/site-packages (from beautifulsoup4->gdown) (4.15.0)\n",
            "Requirement already satisfied: charset_normalizer<4,>=2 in /usr/local/lib/python3.9/site-packages (from requests[socks]->gdown) (3.3.2)\n",
            "Requirement already satisfied: idna<4,>=2.5 in /usr/local/lib/python3.9/site-packages (from requests[socks]->gdown) (3.7)\n",
            "Requirement already satisfied: urllib3<3,>=1.21.1 in /usr/local/lib/python3.9/site-packages (from requests[socks]->gdown) (2.5.0)\n",
            "Requirement already satisfied: certifi>=2017.4.17 in /usr/local/lib/python3.9/site-packages (from requests[socks]->gdown) (2025.8.3)\n",
            "Requirement already satisfied: PySocks!=1.5.7,>=1.5.6 in /usr/local/lib/python3.9/site-packages (from requests[socks]->gdown) (1.7.1)\n",
            "Retrieving folder contents\n",
            "Retrieving folder 1cjUOCB6gikJHmOnoQ5R9oM7-_zAFXuA2 Linux\n",
            "Processing file 1adEifNEfRxBEbG9f_hereTOb6xCtOnNz PushBlock.zip\n",
            "Processing file 1UiFNdKlsH0NTu32xV-giYUEVKV4-vc7H Pyramids.zip\n",
            "Processing file 1KuqBKYiXiIcU4kNMqEzhgypuFP5_45CL SoccerTwos.zip\n",
            "Processing file 1QceC2ruHIsL11-YXMlLZTr7rRDH-4EpL Worm.zip\n",
            "Retrieving folder 1MGn3P0oQKpcIRTV_X1OOWOQoFitwasVU Mac\n",
            "Retrieving folder 1h7YB0qwjoxxghApQdEUQmk95ZwIDxrPG SoccerTwos\n",
            "Processing file 1PEF4snwfzj__bS3GBemLN8MmNooXX20o SoccerTwos.zip\n",
            "Retrieving folder 1o-e0pb5SJV3cCVHEb0GhoTYdRYQD26d- Windows\n",
            "Processing file 1Ue0bVqA8-OuCBsRvevZaNfCUYULhvcMA PushBlock.zip\n",
            "Processing file 1mHt0ds1i1fn3N5mDvSjEms10iq5OR4Cm Pyramids.zip\n",
            "Processing file 1sqFxbEdTMubjVktnV4C6ICjp89wLhUcP SoccerTwos.zip\n",
            "Processing file 1AtK6MG1hPK1I7OjVqLy9QClrzbK0HCOS Walker.zip\n",
            "Processing file 1yGJWsudAL98nPh7mQ10X0lkOZJ5gJ8VO Worm.zip\n",
            "Retrieving folder contents completed\n",
            "Building directory structure\n",
            "Building directory structure completed\n",
            "Downloading...\n",
            "From (original): https://drive.google.com/uc?id=1adEifNEfRxBEbG9f_hereTOb6xCtOnNz\n",
            "From (redirected): https://drive.google.com/uc?id=1adEifNEfRxBEbG9f_hereTOb6xCtOnNz&confirm=t&uuid=920684bb-56eb-4116-97ca-b027601c1aa2\n",
            "To: /content/ml-agents/trained-envs-executables/windows/Public Hugging Face/Linux/PushBlock.zip\n",
            "100% 42.9M/42.9M [00:00<00:00, 97.4MB/s]\n",
            "Downloading...\n",
            "From (original): https://drive.google.com/uc?id=1UiFNdKlsH0NTu32xV-giYUEVKV4-vc7H\n",
            "From (redirected): https://drive.google.com/uc?id=1UiFNdKlsH0NTu32xV-giYUEVKV4-vc7H&confirm=t&uuid=932faccf-1d0d-430e-b8a5-3e1aa7269d2f\n",
            "To: /content/ml-agents/trained-envs-executables/windows/Public Hugging Face/Linux/Pyramids.zip\n",
            "100% 42.9M/42.9M [00:00<00:00, 129MB/s]\n",
            "Downloading...\n",
            "From (original): https://drive.google.com/uc?id=1KuqBKYiXiIcU4kNMqEzhgypuFP5_45CL\n",
            "From (redirected): https://drive.google.com/uc?id=1KuqBKYiXiIcU4kNMqEzhgypuFP5_45CL&confirm=t&uuid=97684488-6cd7-468c-a991-9b81ceec2af1\n",
            "To: /content/ml-agents/trained-envs-executables/windows/Public Hugging Face/Linux/SoccerTwos.zip\n",
            "100% 37.0M/37.0M [00:00<00:00, 78.8MB/s]\n",
            "Downloading...\n",
            "From (original): https://drive.google.com/uc?id=1QceC2ruHIsL11-YXMlLZTr7rRDH-4EpL\n",
            "From (redirected): https://drive.google.com/uc?id=1QceC2ruHIsL11-YXMlLZTr7rRDH-4EpL&confirm=t&uuid=7c5c73de-d0e5-44c0-8d4e-7d365960d924\n",
            "To: /content/ml-agents/trained-envs-executables/windows/Public Hugging Face/Linux/Worm.zip\n",
            "100% 43.0M/43.0M [00:00<00:00, 164MB/s]\n",
            "Downloading...\n",
            "From (original): https://drive.google.com/uc?id=1PEF4snwfzj__bS3GBemLN8MmNooXX20o\n",
            "From (redirected): https://drive.google.com/uc?id=1PEF4snwfzj__bS3GBemLN8MmNooXX20o&confirm=t&uuid=54ec8128-f2a4-4325-95ca-8ae9d13b07f8\n",
            "To: /content/ml-agents/trained-envs-executables/windows/Public Hugging Face/Mac/SoccerTwos/SoccerTwos.zip\n",
            "100% 42.8M/42.8M [00:00<00:00, 104MB/s]\n",
            "Downloading...\n",
            "From (original): https://drive.google.com/uc?id=1Ue0bVqA8-OuCBsRvevZaNfCUYULhvcMA\n",
            "From (redirected): https://drive.google.com/uc?id=1Ue0bVqA8-OuCBsRvevZaNfCUYULhvcMA&confirm=t&uuid=7d204fab-02e7-474a-a357-5cfc227d94fd\n",
            "To: /content/ml-agents/trained-envs-executables/windows/Public Hugging Face/Windows/PushBlock.zip\n",
            "100% 37.3M/37.3M [00:00<00:00, 131MB/s]\n",
            "Downloading...\n",
            "From (original): https://drive.google.com/uc?id=1mHt0ds1i1fn3N5mDvSjEms10iq5OR4Cm\n",
            "From (redirected): https://drive.google.com/uc?id=1mHt0ds1i1fn3N5mDvSjEms10iq5OR4Cm&confirm=t&uuid=3bb37e51-a3c7-4d84-a17c-220ce6e360d7\n",
            "To: /content/ml-agents/trained-envs-executables/windows/Public Hugging Face/Windows/Pyramids.zip\n",
            "100% 37.3M/37.3M [00:00<00:00, 148MB/s]\n",
            "Downloading...\n",
            "From (original): https://drive.google.com/uc?id=1sqFxbEdTMubjVktnV4C6ICjp89wLhUcP\n",
            "From (redirected): https://drive.google.com/uc?id=1sqFxbEdTMubjVktnV4C6ICjp89wLhUcP&confirm=t&uuid=f005ae2b-be81-4b07-b713-027510a99ba7\n",
            "To: /content/ml-agents/trained-envs-executables/windows/Public Hugging Face/Windows/SoccerTwos.zip\n",
            "100% 30.3M/30.3M [00:00<00:00, 137MB/s]\n",
            "Downloading...\n",
            "From (original): https://drive.google.com/uc?id=1AtK6MG1hPK1I7OjVqLy9QClrzbK0HCOS\n",
            "From (redirected): https://drive.google.com/uc?id=1AtK6MG1hPK1I7OjVqLy9QClrzbK0HCOS&confirm=t&uuid=5c6811ee-e549-43e8-bcf3-cdf002b32ae4\n",
            "To: /content/ml-agents/trained-envs-executables/windows/Public Hugging Face/Windows/Walker.zip\n",
            "100% 37.4M/37.4M [00:00<00:00, 67.0MB/s]\n",
            "Downloading...\n",
            "From (original): https://drive.google.com/uc?id=1yGJWsudAL98nPh7mQ10X0lkOZJ5gJ8VO\n",
            "From (redirected): https://drive.google.com/uc?id=1yGJWsudAL98nPh7mQ10X0lkOZJ5gJ8VO&confirm=t&uuid=f2dee3b6-f1ab-4634-afa2-2bbd4898f8d1\n",
            "To: /content/ml-agents/trained-envs-executables/windows/Public Hugging Face/Windows/Worm.zip\n",
            "100% 37.3M/37.3M [00:00<00:00, 87.4MB/s]\n",
            "Download completed\n"
          ]
        }
      ]
    },
    {
      "cell_type": "code",
      "source": [
        "%cd /content/ml-agents\n",
        "!unzip -q -o \"./trained-envs-executables/windows/Public Hugging Face/Windows/Walker.zip\" -d \"./trained-envs-executables/windows/\""
      ],
      "metadata": {
        "colab": {
          "base_uri": "https://localhost:8080/"
        },
        "id": "Zhw7jPgKSTh5",
        "outputId": "53de1c3d-a780-4cfd-8ff4-deea8c8919d5"
      },
      "execution_count": 34,
      "outputs": [
        {
          "output_type": "stream",
          "name": "stdout",
          "text": [
            "/content/ml-agents\n"
          ]
        }
      ]
    },
    {
      "cell_type": "markdown",
      "source": [
        "## 3. Training your agent"
      ],
      "metadata": {
        "id": "aa_0_f0KT9Jr"
      }
    },
    {
      "cell_type": "code",
      "source": [
        "!mlagents-learn config/ppo/Walker.yaml --env=trained-envs-executables/windows/Walker --run-id=\"Walker First Training\" --no-graphics"
      ],
      "metadata": {
        "colab": {
          "base_uri": "https://localhost:8080/"
        },
        "id": "HVYlWY3MUARn",
        "outputId": "fcd41e2d-8668-414a-cf3f-93b5b2fea3bc"
      },
      "execution_count": 46,
      "outputs": [
        {
          "output_type": "stream",
          "name": "stdout",
          "text": [
            "Traceback (most recent call last):\n",
            "  File \"/usr/local/bin/mlagents-learn\", line 33, in <module>\n",
            "    sys.exit(load_entry_point('mlagents', 'console_scripts', 'mlagents-learn')())\n",
            "  File \"/usr/local/bin/mlagents-learn\", line 25, in importlib_load_entry_point\n",
            "    return next(matches).load()\n",
            "  File \"/usr/local/lib/python3.9/importlib/metadata.py\", line 86, in load\n",
            "    module = import_module(match.group('module'))\n",
            "  File \"/usr/local/lib/python3.9/importlib/__init__.py\", line 127, in import_module\n",
            "    return _bootstrap._gcd_import(name[level:], package, level)\n",
            "  File \"<frozen importlib._bootstrap>\", line 1030, in _gcd_import\n",
            "  File \"<frozen importlib._bootstrap>\", line 1007, in _find_and_load\n",
            "  File \"<frozen importlib._bootstrap>\", line 986, in _find_and_load_unlocked\n",
            "  File \"<frozen importlib._bootstrap>\", line 680, in _load_unlocked\n",
            "  File \"<frozen importlib._bootstrap_external>\", line 850, in exec_module\n",
            "  File \"<frozen importlib._bootstrap>\", line 228, in _call_with_frames_removed\n",
            "  File \"/content/ml-agents/ml-agents/mlagents/trainers/learn.py\", line 2, in <module>\n",
            "    from mlagents import torch_utils\n",
            "  File \"/content/ml-agents/ml-agents/mlagents/torch_utils/__init__.py\", line 1, in <module>\n",
            "    from mlagents.torch_utils.torch import torch as torch  # noqa\n",
            "  File \"/content/ml-agents/ml-agents/mlagents/torch_utils/torch.py\", line 6, in <module>\n",
            "    from mlagents.trainers.settings import TorchSettings\n",
            "  File \"/content/ml-agents/ml-agents/mlagents/trainers/settings.py\", line 644, in <module>\n",
            "    class TrainerSettings(ExportableSettings):\n",
            "  File \"/content/ml-agents/ml-agents/mlagents/trainers/settings.py\", line 667, in TrainerSettings\n",
            "    cattr.register_structure_hook(\n",
            "  File \"/usr/local/lib/python3.9/site-packages/cattr/converters.py\", line 186, in register_structure_hook\n",
            "    self._structure_func.register_cls_list([(cl, func)])\n",
            "  File \"/usr/local/lib/python3.9/site-packages/cattr/multistrategy_dispatch.py\", line 44, in register_cls_list\n",
            "    self._single_dispatch.register(cls, handler)\n",
            "  File \"/usr/local/lib/python3.9/functools.py\", line 855, in register\n",
            "    raise TypeError(\n",
            "TypeError: Invalid first argument to `register()`. typing.Dict[mlagents.trainers.settings.RewardSignalType, mlagents.trainers.settings.RewardSignalSettings] is not a class.\n"
          ]
        }
      ]
    },
    {
      "cell_type": "markdown",
      "source": [
        "这个地方还是没跑起来。。。"
      ],
      "metadata": {
        "id": "TiC1m945Wib0"
      }
    },
    {
      "cell_type": "code",
      "source": [
        "!conda tos accept --override-channels --channel https://repo.anaconda.com/pkgs/main\n",
        "!conda tos accept --override-channels --channel https://repo.anaconda.com/pkgs/r\n",
        "!conda install protobuf=3.20 -y\n",
        "!pip install cattrs==1.1.0"
      ],
      "metadata": {
        "colab": {
          "base_uri": "https://localhost:8080/"
        },
        "id": "tWtJwOUNVNuS",
        "outputId": "b280eca3-03e2-4929-af59-6dc5ac500080"
      },
      "execution_count": 45,
      "outputs": [
        {
          "output_type": "stream",
          "name": "stdout",
          "text": [
            "accepted Terms of Service for \u001b[4;94mhttps://repo.anaconda.com/pkgs/main\u001b[0m\n",
            "accepted Terms of Service for \u001b[4;94mhttps://repo.anaconda.com/pkgs/r\u001b[0m\n",
            "\u001b[1;33mJupyter detected\u001b[0m\u001b[1;33m...\u001b[0m\n",
            "\u001b[1;32m2\u001b[0m\u001b[1;32m channel Terms of Service accepted\u001b[0m\n",
            "Channels:\n",
            " - defaults\n",
            "Platform: linux-64\n",
            "Collecting package metadata (repodata.json): - \b\b\\ \b\b| \b\b/ \b\b- \b\b\\ \b\b| \b\b/ \b\b- \b\b\\ \b\b| \b\b/ \b\b- \b\b\\ \b\b| \b\b/ \b\b- \b\b\\ \b\b| \b\b/ \b\b- \b\b\\ \b\b| \b\b/ \b\b- \b\b\\ \b\b| \b\b/ \b\b- \b\b\\ \b\b| \b\b/ \b\b- \b\b\\ \b\b| \b\b/ \b\b- \b\bdone\n",
            "Solving environment: | \b\b/ \b\bdone\n",
            "\n",
            "# All requested packages already installed.\n",
            "\n",
            "Collecting cattrs==1.1.0\n",
            "  Downloading cattrs-1.1.0-py3-none-any.whl.metadata (12 kB)\n",
            "Requirement already satisfied: attrs>=20.1.0 in /usr/local/lib/python3.9/site-packages (from cattrs==1.1.0) (25.3.0)\n",
            "\u001b[33mWARNING: The candidate selected for download or install is a yanked version: 'cattrs' candidate (version 1.1.0 at https://files.pythonhosted.org/packages/c8/37/8019768ed99725271565eebc0cc05d060dfd9427ef2ecd25ae318b9fee97/cattrs-1.1.0-py3-none-any.whl (from https://pypi.org/simple/cattrs/))\n",
            "Reason for being yanked: 1.1.1 is the same release but with more correct metadata\u001b[0m\u001b[33m\n",
            "\u001b[0mDownloading cattrs-1.1.0-py3-none-any.whl (16 kB)\n",
            "Installing collected packages: cattrs\n",
            "  Attempting uninstall: cattrs\n",
            "    Found existing installation: cattrs 1.5.0\n",
            "    Uninstalling cattrs-1.5.0:\n",
            "      Successfully uninstalled cattrs-1.5.0\n",
            "Successfully installed cattrs-1.1.0\n"
          ]
        }
      ]
    }
  ]
}