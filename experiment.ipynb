{
  "nbformat": 4,
  "nbformat_minor": 0,
  "metadata": {
    "colab": {
      "provenance": [],
      "authorship_tag": "ABX9TyO/kp2qmXCV8d13bGRJENUm",
      "include_colab_link": true
    },
    "kernelspec": {
      "name": "python3",
      "display_name": "Python 3"
    },
    "language_info": {
      "name": "python"
    }
  },
  "cells": [
    {
      "cell_type": "markdown",
      "metadata": {
        "id": "view-in-github",
        "colab_type": "text"
      },
      "source": [
        "<a href=\"https://colab.research.google.com/github/CaptainAmu/Reinforcement-Learning-Tutorial/blob/main/experiment.ipynb\" target=\"_parent\"><img src=\"https://colab.research.google.com/assets/colab-badge.svg\" alt=\"Open In Colab\"/></a>"
      ]
    },
    {
      "cell_type": "markdown",
      "source": [
        "### Cloning the Private repo.\n",
        "\n",
        "Since the ```TabGFM``` repo is private, procedure is slightly different than cloning ordinary repo."
      ],
      "metadata": {
        "id": "ATRfedM_4tHv"
      }
    },
    {
      "cell_type": "code",
      "source": [
        "!ssh-keygen -t rsa -b 4096 -f ~/.ssh/id_rsa -N ''"
      ],
      "metadata": {
        "colab": {
          "base_uri": "https://localhost:8080/"
        },
        "id": "TXndUMy83ZpC",
        "outputId": "ffacb5cf-20d7-4f7a-8543-cfb6ef6c66ed"
      },
      "execution_count": 5,
      "outputs": [
        {
          "output_type": "stream",
          "name": "stdout",
          "text": [
            "Generating public/private rsa key pair.\n",
            "Created directory '/root/.ssh'.\n",
            "Your identification has been saved in /root/.ssh/id_rsa\n",
            "Your public key has been saved in /root/.ssh/id_rsa.pub\n",
            "The key fingerprint is:\n",
            "SHA256:XItZR7ZEVheFCnBbHDwU/8JrSaKIz4sMkGx4oKNczOc root@14d02709f618\n",
            "The key's randomart image is:\n",
            "+---[RSA 4096]----+\n",
            "|        ...=@+.o=|\n",
            "|         ..B+o.. |\n",
            "|.         +.oo.  |\n",
            "|.+o.   . = o.. . |\n",
            "|+ *+ .  S . . + .|\n",
            "|o+..o  . . . o + |\n",
            "|..  .E. . .   +  |\n",
            "|     o +     .   |\n",
            "|      o +.       |\n",
            "+----[SHA256]-----+\n"
          ]
        }
      ]
    },
    {
      "cell_type": "code",
      "source": [
        "!ssh-keyscan -t rsa github.com >> ~/.ssh/known_hosts"
      ],
      "metadata": {
        "colab": {
          "base_uri": "https://localhost:8080/"
        },
        "id": "QMPMCwRh3flz",
        "outputId": "d9088df3-fff9-4b1e-f923-1d3ac9a62490"
      },
      "execution_count": 6,
      "outputs": [
        {
          "output_type": "stream",
          "name": "stdout",
          "text": [
            "# github.com:22 SSH-2.0-550beff\n"
          ]
        }
      ]
    },
    {
      "cell_type": "code",
      "source": [
        "!cat ~/.ssh/id_rsa.pub"
      ],
      "metadata": {
        "colab": {
          "base_uri": "https://localhost:8080/"
        },
        "id": "3roThpJn4IA_",
        "outputId": "b18d5f78-d04e-4642-bb35-d57d2baa97f3"
      },
      "execution_count": 7,
      "outputs": [
        {
          "output_type": "stream",
          "name": "stdout",
          "text": [
            "ssh-rsa AAAAB3NzaC1yc2EAAAADAQABAAACAQDJlFBiKl5UKIyjw806YALS2kCKo8XcqUkgzitMMvu25k9HsWxX8ltrRAHYa3hRle22qOpC6AuHQV1gi1tys9dc/EMHL5CziJPXGHaGZn7uz4YSXhpwgEcT2o9gViwSfxmFFB0VwNGZNbry09IDBvL/kJg2A5Podu/9viznsoBZt9aQlRQMhe5CW9xpNZ+7LMUNGnMLQNO4rxy+Jo0tsRyJI/m/PmHHJVGV0ZdX3s92rjGmTp8u+SfZO++itgqwIYmI8Iss2Z4tZM6yIsaihNay58SiZao6YDlJoLsWovbY1nypa8iLmB5RqM5BVRUIgXn2FbI8J30OHNZpol9V8ZbY/DTE8L4WWq1D4gMJ4MZqcWhJODjDyCYL7LMPTxG70Pb6D9zC1KEvlcPRJzlSIsbIlxoEoTv89UAVfInDEfhjycfwLHTU5l0ALPUyIBpbXTB8Ac2LPFcOaSGHCpNNAyNRArjFAYvA7fnud5TrmMp8pNcajlXz4CIuCGyXo/FzWUHaoA+Hu20wLhjdq17tAsCu+dfyDIcvpNhB/BYJClJjr9MReqXAex7M6o+4uFB3oOwLWv5xCyyw2xeEWzpcqTpCUmU/27PBZFl4ILLuZ/QwIzgg6TDpablkPSIAeSZFTCFJ9xzbRY0JcH6YapMB+PCqiSVW0/tqJlavbefSqlxKzQ== root@14d02709f618\n"
          ]
        }
      ]
    },
    {
      "cell_type": "markdown",
      "source": [
        "Copy the above output text to Github -> Settings -> SSH and GPG Keys -> Add new SSH key."
      ],
      "metadata": {
        "id": "VsBJGTMb4ZLS"
      }
    },
    {
      "cell_type": "code",
      "source": [
        "!ssh -T git@github.com"
      ],
      "metadata": {
        "colab": {
          "base_uri": "https://localhost:8080/"
        },
        "id": "9NC7JHz74VOA",
        "outputId": "933497de-c70d-4a88-aa86-8fdb70d68778"
      },
      "execution_count": 8,
      "outputs": [
        {
          "output_type": "stream",
          "name": "stdout",
          "text": [
            "Hi CaptainAmu! You've successfully authenticated, but GitHub does not provide shell access.\n"
          ]
        }
      ]
    },
    {
      "cell_type": "code",
      "source": [
        "!git config --global user.email 'lsc1885@gmail.com'\n",
        "!git config --global user.name 'CaptainAmu'"
      ],
      "metadata": {
        "id": "Aki5OzE64YAQ"
      },
      "execution_count": 10,
      "outputs": []
    },
    {
      "cell_type": "code",
      "source": [
        "!git clone git@github.com:CaptainAmu/TabGFM.git"
      ],
      "metadata": {
        "colab": {
          "base_uri": "https://localhost:8080/"
        },
        "id": "T6-JZ66p4nnA",
        "outputId": "9869bf16-c3c9-4e2a-9620-657d9eb154f1"
      },
      "execution_count": 11,
      "outputs": [
        {
          "output_type": "stream",
          "name": "stdout",
          "text": [
            "Cloning into 'TabGFM'...\n",
            "remote: Enumerating objects: 51, done.\u001b[K\n",
            "remote: Counting objects: 100% (51/51), done.\u001b[K\n",
            "remote: Compressing objects: 100% (44/44), done.\u001b[K\n",
            "remote: Total 51 (delta 5), reused 51 (delta 5), pack-reused 0 (from 0)\u001b[K\n",
            "Receiving objects: 100% (51/51), 57.66 KiB | 967.00 KiB/s, done.\n",
            "Resolving deltas: 100% (5/5), done.\n"
          ]
        }
      ]
    },
    {
      "cell_type": "markdown",
      "source": [
        "---\n",
        "### Start Experimenting!"
      ],
      "metadata": {
        "id": "mKaLqGRu4yjW"
      }
    },
    {
      "cell_type": "code",
      "source": [
        "!touch test.txt"
      ],
      "metadata": {
        "id": "2EC8M3534z2G"
      },
      "execution_count": 16,
      "outputs": []
    },
    {
      "cell_type": "code",
      "source": [
        "def git_save(commit_message):\n",
        "  !git add .\n",
        "  !git commit -m \"{commit_message}\"\n",
        "  !git push"
      ],
      "metadata": {
        "id": "JQxtJvo16HFt"
      },
      "execution_count": 17,
      "outputs": []
    },
    {
      "cell_type": "code",
      "source": [
        "git_save(\"Try initial push to private repo\")"
      ],
      "metadata": {
        "colab": {
          "base_uri": "https://localhost:8080/"
        },
        "id": "Wq7Hkq0O6WHz",
        "outputId": "96752378-e22f-4712-8804-0eebd3436f86"
      },
      "execution_count": 18,
      "outputs": [
        {
          "output_type": "stream",
          "name": "stdout",
          "text": [
            "[main b42ac0f] Try initial push to private repo\n",
            " 1 file changed, 0 insertions(+), 0 deletions(-)\n",
            " create mode 100644 test.txt\n",
            "To github.com:CaptainAmu/TabGFM.git\n",
            " \u001b[31m! [rejected]       \u001b[m main -> main (fetch first)\n",
            "\u001b[31merror: failed to push some refs to 'github.com:CaptainAmu/TabGFM.git'\n",
            "\u001b[m\u001b[33mhint: Updates were rejected because the remote contains work that you do\u001b[m\n",
            "\u001b[33mhint: not have locally. This is usually caused by another repository pushing\u001b[m\n",
            "\u001b[33mhint: to the same ref. You may want to first integrate the remote changes\u001b[m\n",
            "\u001b[33mhint: (e.g., 'git pull ...') before pushing again.\u001b[m\n",
            "\u001b[33mhint: See the 'Note about fast-forwards' in 'git push --help' for details.\u001b[m\n"
          ]
        }
      ]
    }
  ]
}